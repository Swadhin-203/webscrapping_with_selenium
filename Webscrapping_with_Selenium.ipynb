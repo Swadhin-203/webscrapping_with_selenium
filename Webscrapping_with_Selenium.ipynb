{
 "cells": [
  {
   "cell_type": "markdown",
   "id": "0e626d1d-b0d0-4dba-ace7-a467cfaf7d60",
   "metadata": {},
   "source": [
    "# Install selenium"
   ]
  },
  {
   "cell_type": "code",
   "execution_count": 59,
   "id": "34b3f4c9-55d4-46d9-ba78-0d0213d9d510",
   "metadata": {},
   "outputs": [
    {
     "name": "stdout",
     "output_type": "stream",
     "text": [
      "Requirement already satisfied: selenium in c:\\users\\user\\appdata\\local\\programs\\python\\python311\\lib\\site-packages (4.16.0)\n",
      "Requirement already satisfied: urllib3[socks]<3,>=1.26 in c:\\users\\user\\appdata\\local\\programs\\python\\python311\\lib\\site-packages (from selenium) (1.26.16)\n",
      "Requirement already satisfied: trio~=0.17 in c:\\users\\user\\appdata\\local\\programs\\python\\python311\\lib\\site-packages (from selenium) (0.24.0)\n",
      "Requirement already satisfied: trio-websocket~=0.9 in c:\\users\\user\\appdata\\local\\programs\\python\\python311\\lib\\site-packages (from selenium) (0.11.1)\n",
      "Requirement already satisfied: certifi>=2021.10.8 in c:\\users\\user\\appdata\\local\\programs\\python\\python311\\lib\\site-packages (from selenium) (2023.7.22)\n",
      "Requirement already satisfied: attrs>=20.1.0 in c:\\users\\user\\appdata\\local\\programs\\python\\python311\\lib\\site-packages (from trio~=0.17->selenium) (23.1.0)\n",
      "Requirement already satisfied: sortedcontainers in c:\\users\\user\\appdata\\local\\programs\\python\\python311\\lib\\site-packages (from trio~=0.17->selenium) (2.4.0)\n",
      "Requirement already satisfied: idna in c:\\users\\user\\appdata\\local\\programs\\python\\python311\\lib\\site-packages (from trio~=0.17->selenium) (3.4)\n",
      "Requirement already satisfied: outcome in c:\\users\\user\\appdata\\local\\programs\\python\\python311\\lib\\site-packages (from trio~=0.17->selenium) (1.3.0.post0)\n",
      "Requirement already satisfied: sniffio>=1.3.0 in c:\\users\\user\\appdata\\local\\programs\\python\\python311\\lib\\site-packages (from trio~=0.17->selenium) (1.3.0)\n",
      "Requirement already satisfied: cffi>=1.14 in c:\\users\\user\\appdata\\local\\programs\\python\\python311\\lib\\site-packages (from trio~=0.17->selenium) (1.15.1)\n",
      "Requirement already satisfied: wsproto>=0.14 in c:\\users\\user\\appdata\\local\\programs\\python\\python311\\lib\\site-packages (from trio-websocket~=0.9->selenium) (1.2.0)\n",
      "Requirement already satisfied: PySocks!=1.5.7,<2.0,>=1.5.6 in c:\\users\\user\\appdata\\local\\programs\\python\\python311\\lib\\site-packages (from urllib3[socks]<3,>=1.26->selenium) (1.7.1)\n",
      "Requirement already satisfied: pycparser in c:\\users\\user\\appdata\\local\\programs\\python\\python311\\lib\\site-packages (from cffi>=1.14->trio~=0.17->selenium) (2.21)\n",
      "Requirement already satisfied: h11<1,>=0.9.0 in c:\\users\\user\\appdata\\local\\programs\\python\\python311\\lib\\site-packages (from wsproto>=0.14->trio-websocket~=0.9->selenium) (0.14.0)\n"
     ]
    },
    {
     "name": "stderr",
     "output_type": "stream",
     "text": [
      "\n",
      "[notice] A new release of pip is available: 23.2.1 -> 23.3.2\n",
      "[notice] To update, run: C:\\Users\\user\\AppData\\Local\\Programs\\Python\\Python311\\python.exe -m pip install --upgrade pip\n"
     ]
    }
   ],
   "source": [
    "!pip install selenium"
   ]
  },
  {
   "cell_type": "markdown",
   "id": "fb1ad3be-5122-418f-80f0-9e9e6f5b41fe",
   "metadata": {},
   "source": [
    "# Importing necessary modules\n",
    "### This project is just for education purpose"
   ]
  },
  {
   "cell_type": "code",
   "execution_count": 60,
   "id": "50973f17-0f8e-4a23-a188-093afe4c4a00",
   "metadata": {},
   "outputs": [],
   "source": [
    "from selenium import webdriver\n",
    "from selenium.webdriver.common.keys import Keys\n",
    "from selenium.webdriver.common.by import By\n",
    "from selenium.webdriver.support.ui import WebDriverWait\n",
    "from selenium.webdriver.support import expected_conditions as EC"
   ]
  },
  {
   "cell_type": "markdown",
   "id": "5e5ccd6a-cfb1-4634-be20-4ed22d7092a1",
   "metadata": {},
   "source": [
    "## Set the path to your chromedriver executable\n"
   ]
  },
  {
   "cell_type": "code",
   "execution_count": 61,
   "id": "cab8cf5f-13c3-4cbb-9b06-c8351a29c165",
   "metadata": {},
   "outputs": [],
   "source": [
    "chrome_driver_path = 'C://Users//user//Desktop//tty.lnk'"
   ]
  },
  {
   "cell_type": "markdown",
   "id": "f4dd5173-56c9-4a9c-8620-907ba2162392",
   "metadata": {},
   "source": [
    "## Set up Chrome options\n"
   ]
  },
  {
   "cell_type": "code",
   "execution_count": 62,
   "id": "3459640f-1e90-497b-8c4f-97e3a8cf66c4",
   "metadata": {},
   "outputs": [],
   "source": [
    "chrome_options = webdriver.ChromeOptions()"
   ]
  },
  {
   "cell_type": "markdown",
   "id": "a6cc8e4f-13ac-4c52-902a-f89b77d49dbf",
   "metadata": {},
   "source": [
    "\n",
    "## Add the executable path to ChromeDriver within Chrome options"
   ]
  },
  {
   "cell_type": "code",
   "execution_count": 63,
   "id": "371f0d42-fdac-4674-84cf-8a258de86daa",
   "metadata": {},
   "outputs": [],
   "source": [
    "chrome_options.add_argument(\"webdriver.chrome.driver=\" + chrome_driver_path)"
   ]
  },
  {
   "cell_type": "markdown",
   "id": "134a6950-2e9f-4884-8d7e-6abe04a1c915",
   "metadata": {},
   "source": [
    "## Initialize Chrome WebDriver with options"
   ]
  },
  {
   "cell_type": "code",
   "execution_count": 64,
   "id": "131757c6-c024-4fb9-923c-da723f3dcf19",
   "metadata": {},
   "outputs": [],
   "source": [
    "driver = webdriver.Chrome(options=chrome_options)"
   ]
  },
  {
   "cell_type": "markdown",
   "id": "50e7b9ba-940a-4c3b-9567-d646f93f83a4",
   "metadata": {},
   "source": [
    "## Navigate to Flipkart"
   ]
  },
  {
   "cell_type": "code",
   "execution_count": 65,
   "id": "f08eaaa2-c26a-4ce5-a8d9-43981f8edfb3",
   "metadata": {},
   "outputs": [],
   "source": [
    "driver.get(\"https://www.flipkart.com/\")"
   ]
  },
  {
   "cell_type": "markdown",
   "id": "0bdae341-ea08-43e4-a2ee-a42dd84f73cf",
   "metadata": {},
   "source": [
    "## Find the search input field using its name attribute value"
   ]
  },
  {
   "cell_type": "code",
   "execution_count": 66,
   "id": "580e3f7f-9b46-429d-9e42-f6bdb4f334ec",
   "metadata": {},
   "outputs": [],
   "source": [
    "search_box = driver.find_element(\"name\", \"q\")"
   ]
  },
  {
   "cell_type": "markdown",
   "id": "f3cfc89a-2f77-42ef-84af-9901b1351c83",
   "metadata": {},
   "source": [
    "## Enter your search query (e.g., \"laptop\") and press Enter"
   ]
  },
  {
   "cell_type": "code",
   "execution_count": 67,
   "id": "f2bb05ac-7ab6-4e17-8a7d-50aee58393a7",
   "metadata": {},
   "outputs": [],
   "source": [
    "search_box.send_keys(\"laptop\" + Keys.RETURN)"
   ]
  },
  {
   "cell_type": "markdown",
   "id": "0fcb8a8d-1af4-4a5a-923c-5f20bbd904c5",
   "metadata": {},
   "source": [
    "## Wait for the search results to load"
   ]
  },
  {
   "cell_type": "code",
   "execution_count": 68,
   "id": "a382197e-8875-48bd-8846-ff2a71acbaa2",
   "metadata": {},
   "outputs": [
    {
     "data": {
      "text/plain": [
       "<selenium.webdriver.remote.webelement.WebElement (session=\"1405461101000cbf062235296de26321\", element=\"CBE99D83DC78169257871BB1AB14658D_element_332\")>"
      ]
     },
     "execution_count": 68,
     "metadata": {},
     "output_type": "execute_result"
    }
   ],
   "source": [
    "WebDriverWait(driver, 10).until(EC.presence_of_element_located((By.CSS_SELECTOR, 'div._1AtVbE')))"
   ]
  },
  {
   "cell_type": "markdown",
   "id": "61986ec7-73d9-492a-b27d-756288b26177",
   "metadata": {},
   "source": [
    "## Extract laptop names, prices, and customer reviews"
   ]
  },
  {
   "cell_type": "code",
   "execution_count": 69,
   "id": "e6d59d28-eff3-42ad-a672-2e85e3a92ebe",
   "metadata": {},
   "outputs": [],
   "source": [
    "laptop_names = driver.find_elements(By.CSS_SELECTOR, 'div._4rR01T')\n",
    "laptop_prices = driver.find_elements(By.CSS_SELECTOR, 'div._30jeq3')\n",
    "customer_reviews = driver.find_elements(By.CSS_SELECTOR, 'span._2_R_DZ')"
   ]
  },
  {
   "cell_type": "markdown",
   "id": "1d76c523-223d-468c-b6ab-89a1f6f4f3d9",
   "metadata": {},
   "source": [
    "## Display the extracted data"
   ]
  },
  {
   "cell_type": "code",
   "execution_count": 70,
   "id": "66c904ca-17fb-4619-b8d7-70549ffe01ce",
   "metadata": {},
   "outputs": [],
   "source": [
    "laptop_names = driver.find_elements(By.CSS_SELECTOR, 'div._4rR01T')\n",
    "laptop_prices = driver.find_elements(By.CSS_SELECTOR, 'div._30jeq3')\n",
    "customer_reviews = driver.find_elements(By.CSS_SELECTOR, 'span._2_R_DZ')"
   ]
  },
  {
   "cell_type": "markdown",
   "id": "d2cd589c-bb4c-4eb2-93ce-90b2bd90871d",
   "metadata": {},
   "source": [
    "## Display the extracted data"
   ]
  },
  {
   "cell_type": "code",
   "execution_count": 71,
   "id": "18b5f45f-6ebd-4c37-b6bb-1b73fa42377c",
   "metadata": {},
   "outputs": [
    {
     "name": "stdout",
     "output_type": "stream",
     "text": [
      "Laptop Name: Lenovo IdeaPad Gaming 3 Intel Core i5 11th Gen 11300H - (8 GB/512 GB SSD/Windows 11 Home/4 GB Graphics...\n",
      "Price: ₹47,990\n",
      "Customer Review: 4,960 Ratings & 453 Reviews\n",
      "\n",
      "Laptop Name: MSI Bravo 15 AMD Ryzen 5 Hexa Core 7535HS - (8 GB/512 GB SSD/Windows 11 Home/4 GB Graphics/AMD Radeon ...\n",
      "Price: ₹49,990\n",
      "Customer Review: 6 Ratings & 1 Reviews\n",
      "\n",
      "Laptop Name: APPLE 2020 Macbook Air Apple M1 - (8 GB/256 GB SSD/Mac OS Big Sur) MGN63HN/A\n",
      "Price: ₹70,990\n",
      "Customer Review: 12,476 Ratings & 1,046 Reviews\n",
      "\n",
      "Laptop Name: APPLE 2020 Macbook Air Apple M1 - (8 GB/256 GB SSD/Mac OS Big Sur) MGN93HN/A\n",
      "Price: ₹70,990\n",
      "Customer Review: 12,476 Ratings & 1,046 Reviews\n",
      "\n",
      "Laptop Name: APPLE 2020 Macbook Air Apple M1 - (8 GB/256 GB SSD/Mac OS Big Sur) MGND3HN/A\n",
      "Price: ₹70,990\n",
      "Customer Review: 12,476 Ratings & 1,046 Reviews\n",
      "\n",
      "Laptop Name: ASUS Zenbook 14X OLED AMD Ryzen 5 Hexa Core 5600HS - (16 GB/512 GB SSD/Windows 11 Home) UM5401QA-KM541...\n",
      "Price: ₹55,990\n",
      "Customer Review: 911 Ratings & 131 Reviews\n",
      "\n",
      "Laptop Name: ASUS Vivobook 15 Intel Core i5 11th Gen 1135G7 - (8 GB/512 GB SSD/Windows 11 Home) X515EA-EJ522WS Thin...\n",
      "Price: ₹40,990\n",
      "Customer Review: 6,912 Ratings & 507 Reviews\n",
      "\n",
      "Laptop Name: HP Victus AMD Ryzen 5 Hexa Core 7535HS - (8 GB/512 GB SSD/Windows 11 Home/4 GB Graphics/NVIDIA GeForce...\n",
      "Price: ₹54,990\n",
      "Customer Review: 136 Ratings & 14 Reviews\n",
      "\n",
      "Laptop Name: ASUS Vivobook Go 15 (2023) AMD Ryzen 5 Quad Core 7520U - (8 GB/512 GB SSD/Windows 11 Home) E1504FA-NJ5...\n",
      "Price: ₹38,990\n",
      "Customer Review: 860 Ratings & 62 Reviews\n",
      "\n",
      "Laptop Name: ASUS Vivobook 15 Intel Core i3 11th Gen 1115G4 - (8 GB/256 GB SSD/Windows 11 Home) X1500EA-EJ311W Thin...\n",
      "Price: ₹27,990\n",
      "Customer Review: 633 Ratings & 54 Reviews\n",
      "\n",
      "Laptop Name: CHUWI Intel Celeron Dual Core 11th Gen N4020 - (8 GB/256 GB SSD/Windows 11 Home) HeroBook Pro Laptop\n",
      "Price: ₹18,990\n",
      "Customer Review: 204 Ratings & 35 Reviews\n",
      "\n",
      "Laptop Name: MSI GF63 Intel Core i5 11th Gen 11260H - (8 GB/512 GB SSD/Windows 11 Home/4 GB Graphics/NVIDIA GeForce...\n",
      "Price: ₹41,990\n",
      "Customer Review: 522 Ratings & 46 Reviews\n",
      "\n",
      "Laptop Name: SAMSUNG Galaxy Book2 Pro EVO AMOLED Intel Core i5 12th Gen 1240P - (16 GB/512 GB SSD/Windows 11 Home) ...\n",
      "Price: ₹64,990\n",
      "Customer Review: 925 Ratings & 145 Reviews\n",
      "\n",
      "Laptop Name: ASUS Vivobook Go 15 Intel Celeron Dual Core N4020 - (4 GB/256 GB SSD/Windows 11 Home) E510MA-EJ001W Th...\n",
      "Price: ₹19,990\n",
      "Customer Review: 1,105 Ratings & 116 Reviews\n",
      "\n",
      "Laptop Name: HP 15s Intel Core i3 12th Gen 1215U - (8 GB/512 GB SSD/Windows 11 Home) 15s-fq5007TU Thin and Light La...\n",
      "Price: ₹37,999\n",
      "Customer Review: 2,698 Ratings & 296 Reviews\n",
      "\n",
      "Laptop Name: ASUS TUF Gaming F15 - AI Powered Gaming Intel Core i5 11th Gen 11260H - (8 GB/512 GB SSD/Windows 11 Ho...\n",
      "Price: ₹47,990\n",
      "Customer Review: 2,825 Ratings & 280 Reviews\n",
      "\n",
      "Laptop Name: CHUWI Intel Core i3 10th Gen 1005G1 - (8 GB/512 GB SSD/Windows 11 Home) CoreBook X Grey Laptop\n",
      "Price: ₹24,990\n",
      "Customer Review: 848 Ratings & 156 Reviews\n",
      "\n",
      "Laptop Name: AXL Intel Celeron Dual Core 9th Gen - (4 GB/256 GB SSD/Windows 11 Home) 15W_LAP02 Thin and Light Lapto...\n",
      "Price: ₹16,990\n",
      "Customer Review: 21 Ratings & 2 Reviews\n",
      "\n",
      "Laptop Name: HP 14s Intel Core i3 11th Gen 1115G4 - (8 GB/512 GB SSD/Windows 11 Home) 14s - dy2508TU Thin and Light...\n",
      "Price: ₹34,990\n",
      "Customer Review: 11,438 Ratings & 898 Reviews\n",
      "\n",
      "Laptop Name: HP 2023 Intel Core i5 11th Gen 1155G7 - (16 GB/512 GB SSD/Windows 11 Home) 15s-fr4001TU Thin and Light...\n",
      "Price: ₹52,580\n",
      "Customer Review: 3,322 Ratings & 247 Reviews\n",
      "\n",
      "Laptop Name: MSI Intel Core i5 12th Gen 12450H - (16 GB/512 GB SSD/Windows 11 Home/6 GB Graphics/NVIDIA GeForce RTX...\n",
      "Price: ₹69,990\n",
      "Customer Review: 9 Ratings & 2 Reviews\n",
      "\n",
      "Laptop Name: MSI GF63 Intel Core i7 11th Gen 11800H - (16 GB/1 TB HDD/256 GB SSD/Windows 11 Home/4 GB Graphics/NVID...\n",
      "Price: ₹66,780\n",
      "Customer Review: 856 Ratings & 91 Reviews\n",
      "\n",
      "Laptop Name: Lenovo Intel Core i7 12th Gen 1255U - (16 GB/512 GB SSD/Windows 11 Home) V15 G3 IAP Thin and Light Lap...\n",
      "Price: ₹49,990\n",
      "Customer Review: 783 Ratings & 72 Reviews\n",
      "\n",
      "Laptop Name: MSI Modern 14 AMD Ryzen 5 Hexa Core 7530U - (8 GB/512 GB SSD/Windows 11 Home) Modern 14 C7M-063IN Thin...\n",
      "Price: ₹33,990\n",
      "Customer Review: 714 Ratings & 100 Reviews\n",
      "\n"
     ]
    }
   ],
   "source": [
    "\n",
    "for name, price, review in zip(laptop_names, laptop_prices, customer_reviews):\n",
    "    print(f\"Laptop Name: {name.text}\\nPrice: {price.text}\\nCustomer Review: {review.text}\\n\")"
   ]
  },
  {
   "cell_type": "markdown",
   "id": "5dff377c-4c9a-4fbc-8977-66813706ceff",
   "metadata": {},
   "source": [
    "## Close the browser"
   ]
  },
  {
   "cell_type": "code",
   "execution_count": 72,
   "id": "510352a4-6505-4457-967f-e08d2c22c049",
   "metadata": {},
   "outputs": [],
   "source": [
    "driver.quit()"
   ]
  },
  {
   "cell_type": "code",
   "execution_count": null,
   "id": "37ad4618-63f1-41a2-99c4-7475090c34cf",
   "metadata": {},
   "outputs": [],
   "source": []
  },
  {
   "cell_type": "code",
   "execution_count": null,
   "id": "861bc75c-f7cb-4208-8427-a1848032eee0",
   "metadata": {},
   "outputs": [],
   "source": []
  },
  {
   "cell_type": "code",
   "execution_count": null,
   "id": "37f153eb-7720-4bd5-a145-f8a26e253fa3",
   "metadata": {},
   "outputs": [],
   "source": []
  },
  {
   "cell_type": "code",
   "execution_count": null,
   "id": "ae45e342-114b-4085-aaef-4cd005793a80",
   "metadata": {},
   "outputs": [],
   "source": []
  },
  {
   "cell_type": "code",
   "execution_count": null,
   "id": "af0ff0ca-a346-44e6-a063-d90732706cb4",
   "metadata": {},
   "outputs": [],
   "source": []
  },
  {
   "cell_type": "code",
   "execution_count": null,
   "id": "5701c24a-e2c8-482b-81eb-28a477133d34",
   "metadata": {},
   "outputs": [],
   "source": []
  },
  {
   "cell_type": "code",
   "execution_count": null,
   "id": "0ab1ab8c-b420-4ddb-a2c5-ed6da0ec007d",
   "metadata": {},
   "outputs": [],
   "source": []
  },
  {
   "cell_type": "code",
   "execution_count": null,
   "id": "02f47602-defb-446f-bdf6-e35fb9b5d4c1",
   "metadata": {},
   "outputs": [],
   "source": []
  },
  {
   "cell_type": "code",
   "execution_count": null,
   "id": "5a9a3caa-d793-4b04-afcc-6eb4c508f003",
   "metadata": {},
   "outputs": [],
   "source": []
  },
  {
   "cell_type": "code",
   "execution_count": null,
   "id": "c11aa4b8-c929-4d9f-9e4a-54d9acc7e4a7",
   "metadata": {},
   "outputs": [],
   "source": []
  },
  {
   "cell_type": "code",
   "execution_count": null,
   "id": "97ed97be-69b5-4f8c-8177-50da8fc95c04",
   "metadata": {},
   "outputs": [],
   "source": []
  },
  {
   "cell_type": "code",
   "execution_count": null,
   "id": "f8d5e4b3-bf71-44b8-8e1e-678c3763cc47",
   "metadata": {},
   "outputs": [],
   "source": []
  },
  {
   "cell_type": "code",
   "execution_count": null,
   "id": "1352ce88-91f3-4e11-b436-706b7c6776dd",
   "metadata": {},
   "outputs": [],
   "source": []
  },
  {
   "cell_type": "code",
   "execution_count": null,
   "id": "8ad0ea5b-7b68-4188-94d3-7a5869f5bfd5",
   "metadata": {},
   "outputs": [],
   "source": []
  },
  {
   "cell_type": "code",
   "execution_count": null,
   "id": "9e640d2f-11c5-4d11-aef7-bde643f8d81c",
   "metadata": {},
   "outputs": [],
   "source": []
  },
  {
   "cell_type": "code",
   "execution_count": null,
   "id": "f94923fd-aa25-427c-a2b5-2b529e40ac82",
   "metadata": {},
   "outputs": [],
   "source": []
  },
  {
   "cell_type": "code",
   "execution_count": null,
   "id": "07b2ec3e-d3c5-495f-a784-a317f3c0ef97",
   "metadata": {},
   "outputs": [],
   "source": []
  },
  {
   "cell_type": "code",
   "execution_count": null,
   "id": "34f26ed1-8173-4d2d-9e4b-bdf92d01c2b3",
   "metadata": {},
   "outputs": [],
   "source": []
  },
  {
   "cell_type": "code",
   "execution_count": null,
   "id": "a4306b82-37c3-4adf-aa7c-508f9904be08",
   "metadata": {},
   "outputs": [],
   "source": []
  },
  {
   "cell_type": "code",
   "execution_count": null,
   "id": "c6f792c3-c64e-4915-892f-eea39f956ba1",
   "metadata": {},
   "outputs": [],
   "source": []
  },
  {
   "cell_type": "code",
   "execution_count": null,
   "id": "76fe2d4b-3887-4e89-bba7-54d2eef2f8ed",
   "metadata": {},
   "outputs": [],
   "source": []
  },
  {
   "cell_type": "code",
   "execution_count": null,
   "id": "e7f4842a-139d-4b02-824f-aeae3fec110f",
   "metadata": {},
   "outputs": [],
   "source": []
  },
  {
   "cell_type": "code",
   "execution_count": null,
   "id": "e7c60d6b-6f8a-42ca-a90b-5e1ba07d7bae",
   "metadata": {},
   "outputs": [],
   "source": []
  },
  {
   "cell_type": "code",
   "execution_count": null,
   "id": "64e5704d-20ee-4a31-895a-34c0df893f8c",
   "metadata": {},
   "outputs": [],
   "source": []
  },
  {
   "cell_type": "code",
   "execution_count": null,
   "id": "31910e53-d722-46cf-b28d-c8d3cab1f5d1",
   "metadata": {},
   "outputs": [],
   "source": []
  },
  {
   "cell_type": "code",
   "execution_count": null,
   "id": "4c181207-886d-4f0f-87d9-92cb9a607998",
   "metadata": {},
   "outputs": [],
   "source": []
  },
  {
   "cell_type": "code",
   "execution_count": null,
   "id": "4bf3b433-3872-4717-b872-77285b5f669e",
   "metadata": {},
   "outputs": [],
   "source": []
  },
  {
   "cell_type": "code",
   "execution_count": null,
   "id": "ecfd58af-e4b0-4b06-9a76-6b95cfe50c13",
   "metadata": {},
   "outputs": [],
   "source": []
  },
  {
   "cell_type": "code",
   "execution_count": null,
   "id": "86c5448b-84e8-452e-9e5a-1fe9b5dbe136",
   "metadata": {},
   "outputs": [],
   "source": []
  },
  {
   "cell_type": "code",
   "execution_count": null,
   "id": "91799488-9ffe-427a-8b49-ba64c0e550e2",
   "metadata": {},
   "outputs": [],
   "source": []
  },
  {
   "cell_type": "code",
   "execution_count": null,
   "id": "276de17e-49ea-45ba-8a63-7d056b6b7aa2",
   "metadata": {},
   "outputs": [],
   "source": []
  },
  {
   "cell_type": "code",
   "execution_count": null,
   "id": "ac59d777-c41f-4c65-9fc4-4d4bba3cf8a0",
   "metadata": {},
   "outputs": [],
   "source": []
  },
  {
   "cell_type": "code",
   "execution_count": null,
   "id": "d4dfc879-2a63-4806-9bb2-3a8423c704c3",
   "metadata": {},
   "outputs": [],
   "source": []
  },
  {
   "cell_type": "code",
   "execution_count": null,
   "id": "c47a9e45-23b3-434c-8629-1fcd5d254617",
   "metadata": {},
   "outputs": [],
   "source": []
  },
  {
   "cell_type": "code",
   "execution_count": null,
   "id": "fafca05d-0862-474d-bc72-626917fa7ea0",
   "metadata": {},
   "outputs": [],
   "source": []
  }
 ],
 "metadata": {
  "kernelspec": {
   "display_name": "Python 3 (ipykernel)",
   "language": "python",
   "name": "python3"
  },
  "language_info": {
   "codemirror_mode": {
    "name": "ipython",
    "version": 3
   },
   "file_extension": ".py",
   "mimetype": "text/x-python",
   "name": "python",
   "nbconvert_exporter": "python",
   "pygments_lexer": "ipython3",
   "version": "3.11.4"
  },
  "widgets": {
   "application/vnd.jupyter.widget-state+json": {
    "state": {},
    "version_major": 2,
    "version_minor": 0
   }
  }
 },
 "nbformat": 4,
 "nbformat_minor": 5
}
