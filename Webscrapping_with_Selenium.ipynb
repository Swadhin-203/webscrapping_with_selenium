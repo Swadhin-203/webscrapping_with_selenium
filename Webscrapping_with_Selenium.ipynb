{
 "cells": [
  {
   "cell_type": "markdown",
   "id": "0e626d1d-b0d0-4dba-ace7-a467cfaf7d60",
   "metadata": {},
   "source": [
    "# Install selenium"
   ]
  },
  {
   "cell_type": "code",
   "execution_count": null,
   "id": "34b3f4c9-55d4-46d9-ba78-0d0213d9d510",
   "metadata": {},
   "outputs": [],
   "source": [
    "!pip install selenium"
   ]
  },
  {
   "cell_type": "markdown",
   "id": "fb1ad3be-5122-418f-80f0-9e9e6f5b41fe",
   "metadata": {},
   "source": [
    "# Importing necessary modules\n",
    "### This project is just for education purpose"
   ]
  },
  {
   "cell_type": "code",
   "execution_count": null,
   "id": "50973f17-0f8e-4a23-a188-093afe4c4a00",
   "metadata": {},
   "outputs": [],
   "source": [
    "from selenium import webdriver\n",
    "from selenium.webdriver.common.keys import Keys\n",
    "from selenium.webdriver.common.by import By\n",
    "from selenium.webdriver.support.ui import WebDriverWait\n",
    "from selenium.webdriver.support import expected_conditions as EC"
   ]
  },
  {
   "cell_type": "markdown",
   "id": "5e5ccd6a-cfb1-4634-be20-4ed22d7092a1",
   "metadata": {},
   "source": [
    "## Set the path to your chromedriver executable\n"
   ]
  },
  {
   "cell_type": "code",
   "execution_count": null,
   "id": "cab8cf5f-13c3-4cbb-9b06-c8351a29c165",
   "metadata": {},
   "outputs": [],
   "source": [
    "chrome_driver_path = 'C://Users//user//Desktop//tty.lnk'"
   ]
  },
  {
   "cell_type": "markdown",
   "id": "f4dd5173-56c9-4a9c-8620-907ba2162392",
   "metadata": {},
   "source": [
    "## Set up Chrome options\n"
   ]
  },
  {
   "cell_type": "code",
   "execution_count": null,
   "id": "3459640f-1e90-497b-8c4f-97e3a8cf66c4",
   "metadata": {},
   "outputs": [],
   "source": [
    "chrome_options = webdriver.ChromeOptions()"
   ]
  },
  {
   "cell_type": "markdown",
   "id": "a6cc8e4f-13ac-4c52-902a-f89b77d49dbf",
   "metadata": {},
   "source": [
    "\n",
    "## Add the executable path to ChromeDriver within Chrome options"
   ]
  },
  {
   "cell_type": "code",
   "execution_count": null,
   "id": "371f0d42-fdac-4674-84cf-8a258de86daa",
   "metadata": {},
   "outputs": [],
   "source": [
    "chrome_options.add_argument(\"webdriver.chrome.driver=\" + chrome_driver_path)"
   ]
  },
  {
   "cell_type": "markdown",
   "id": "134a6950-2e9f-4884-8d7e-6abe04a1c915",
   "metadata": {},
   "source": [
    "## Initialize Chrome WebDriver with options"
   ]
  },
  {
   "cell_type": "code",
   "execution_count": null,
   "id": "131757c6-c024-4fb9-923c-da723f3dcf19",
   "metadata": {},
   "outputs": [],
   "source": [
    "driver = webdriver.Chrome(options=chrome_options)"
   ]
  },
  {
   "cell_type": "markdown",
   "id": "50e7b9ba-940a-4c3b-9567-d646f93f83a4",
   "metadata": {},
   "source": [
    "## Navigate to Flipkart"
   ]
  },
  {
   "cell_type": "code",
   "execution_count": null,
   "id": "f08eaaa2-c26a-4ce5-a8d9-43981f8edfb3",
   "metadata": {},
   "outputs": [],
   "source": [
    "driver.get(\"https://www.flipkart.com/\")"
   ]
  },
  {
   "cell_type": "markdown",
   "id": "0bdae341-ea08-43e4-a2ee-a42dd84f73cf",
   "metadata": {},
   "source": [
    "## Find the search input field using its name attribute value"
   ]
  },
  {
   "cell_type": "code",
   "execution_count": null,
   "id": "580e3f7f-9b46-429d-9e42-f6bdb4f334ec",
   "metadata": {},
   "outputs": [],
   "source": [
    "search_box = driver.find_element(\"name\", \"q\")"
   ]
  },
  {
   "cell_type": "markdown",
   "id": "f3cfc89a-2f77-42ef-84af-9901b1351c83",
   "metadata": {},
   "source": [
    "## Enter your search query (e.g., \"laptop\") and press Enter"
   ]
  },
  {
   "cell_type": "code",
   "execution_count": null,
   "id": "f2bb05ac-7ab6-4e17-8a7d-50aee58393a7",
   "metadata": {},
   "outputs": [],
   "source": [
    "search_box.send_keys(\"laptop\" + Keys.RETURN)"
   ]
  },
  {
   "cell_type": "markdown",
   "id": "0fcb8a8d-1af4-4a5a-923c-5f20bbd904c5",
   "metadata": {},
   "source": [
    "## Wait for the search results to load"
   ]
  },
  {
   "cell_type": "code",
   "execution_count": null,
   "id": "a382197e-8875-48bd-8846-ff2a71acbaa2",
   "metadata": {},
   "outputs": [],
   "source": [
    "WebDriverWait(driver, 10).until(EC.presence_of_element_located((By.CSS_SELECTOR, 'div._1AtVbE')))"
   ]
  },
  {
   "cell_type": "markdown",
   "id": "61986ec7-73d9-492a-b27d-756288b26177",
   "metadata": {},
   "source": [
    "## Extract laptop names, prices, and customer reviews"
   ]
  },
  {
   "cell_type": "code",
   "execution_count": null,
   "id": "e6d59d28-eff3-42ad-a672-2e85e3a92ebe",
   "metadata": {},
   "outputs": [],
   "source": [
    "laptop_names = driver.find_elements(By.CSS_SELECTOR, 'div._4rR01T')\n",
    "laptop_prices = driver.find_elements(By.CSS_SELECTOR, 'div._30jeq3')\n",
    "customer_reviews = driver.find_elements(By.CSS_SELECTOR, 'span._2_R_DZ')"
   ]
  },
  {
   "cell_type": "markdown",
   "id": "1d76c523-223d-468c-b6ab-89a1f6f4f3d9",
   "metadata": {},
   "source": [
    "## Display the extracted data"
   ]
  },
  {
   "cell_type": "code",
   "execution_count": null,
   "id": "66c904ca-17fb-4619-b8d7-70549ffe01ce",
   "metadata": {},
   "outputs": [],
   "source": [
    "laptop_names = driver.find_elements(By.CSS_SELECTOR, 'div._4rR01T')\n",
    "laptop_prices = driver.find_elements(By.CSS_SELECTOR, 'div._30jeq3')\n",
    "customer_reviews = driver.find_elements(By.CSS_SELECTOR, 'span._2_R_DZ')"
   ]
  },
  {
   "cell_type": "markdown",
   "id": "d2cd589c-bb4c-4eb2-93ce-90b2bd90871d",
   "metadata": {},
   "source": [
    "## Display the extracted data"
   ]
  },
  {
   "cell_type": "code",
   "execution_count": null,
   "id": "18b5f45f-6ebd-4c37-b6bb-1b73fa42377c",
   "metadata": {},
   "outputs": [],
   "source": [
    "\n",
    "for name, price, review in zip(laptop_names, laptop_prices, customer_reviews):\n",
    "    print(f\"Laptop Name: {name.text}\\nPrice: {price.text}\\nCustomer Review: {review.text}\\n\")"
   ]
  },
  {
   "cell_type": "markdown",
   "id": "5dff377c-4c9a-4fbc-8977-66813706ceff",
   "metadata": {},
   "source": [
    "## Close the browser"
   ]
  },
  {
   "cell_type": "code",
   "execution_count": null,
   "id": "510352a4-6505-4457-967f-e08d2c22c049",
   "metadata": {},
   "outputs": [],
   "source": [
    "driver.quit()"
   ]
  },
  {
   "cell_type": "code",
   "execution_count": null,
   "id": "37ad4618-63f1-41a2-99c4-7475090c34cf",
   "metadata": {},
   "outputs": [],
   "source": []
  },
  {
   "cell_type": "code",
   "execution_count": null,
   "id": "861bc75c-f7cb-4208-8427-a1848032eee0",
   "metadata": {},
   "outputs": [],
   "source": []
  },
  {
   "cell_type": "code",
   "execution_count": null,
   "id": "37f153eb-7720-4bd5-a145-f8a26e253fa3",
   "metadata": {},
   "outputs": [],
   "source": []
  },
  {
   "cell_type": "code",
   "execution_count": null,
   "id": "ae45e342-114b-4085-aaef-4cd005793a80",
   "metadata": {},
   "outputs": [],
   "source": []
  },
  {
   "cell_type": "code",
   "execution_count": null,
   "id": "af0ff0ca-a346-44e6-a063-d90732706cb4",
   "metadata": {},
   "outputs": [],
   "source": []
  },
  {
   "cell_type": "code",
   "execution_count": null,
   "id": "5701c24a-e2c8-482b-81eb-28a477133d34",
   "metadata": {},
   "outputs": [],
   "source": []
  },
  {
   "cell_type": "code",
   "execution_count": null,
   "id": "0ab1ab8c-b420-4ddb-a2c5-ed6da0ec007d",
   "metadata": {},
   "outputs": [],
   "source": []
  },
  {
   "cell_type": "code",
   "execution_count": null,
   "id": "02f47602-defb-446f-bdf6-e35fb9b5d4c1",
   "metadata": {},
   "outputs": [],
   "source": []
  },
  {
   "cell_type": "code",
   "execution_count": null,
   "id": "5a9a3caa-d793-4b04-afcc-6eb4c508f003",
   "metadata": {},
   "outputs": [],
   "source": []
  },
  {
   "cell_type": "code",
   "execution_count": null,
   "id": "c11aa4b8-c929-4d9f-9e4a-54d9acc7e4a7",
   "metadata": {},
   "outputs": [],
   "source": []
  },
  {
   "cell_type": "code",
   "execution_count": null,
   "id": "97ed97be-69b5-4f8c-8177-50da8fc95c04",
   "metadata": {},
   "outputs": [],
   "source": []
  },
  {
   "cell_type": "code",
   "execution_count": null,
   "id": "f8d5e4b3-bf71-44b8-8e1e-678c3763cc47",
   "metadata": {},
   "outputs": [],
   "source": []
  },
  {
   "cell_type": "code",
   "execution_count": null,
   "id": "1352ce88-91f3-4e11-b436-706b7c6776dd",
   "metadata": {},
   "outputs": [],
   "source": []
  },
  {
   "cell_type": "code",
   "execution_count": null,
   "id": "8ad0ea5b-7b68-4188-94d3-7a5869f5bfd5",
   "metadata": {},
   "outputs": [],
   "source": []
  },
  {
   "cell_type": "code",
   "execution_count": null,
   "id": "9e640d2f-11c5-4d11-aef7-bde643f8d81c",
   "metadata": {},
   "outputs": [],
   "source": []
  },
  {
   "cell_type": "code",
   "execution_count": null,
   "id": "f94923fd-aa25-427c-a2b5-2b529e40ac82",
   "metadata": {},
   "outputs": [],
   "source": []
  },
  {
   "cell_type": "code",
   "execution_count": null,
   "id": "07b2ec3e-d3c5-495f-a784-a317f3c0ef97",
   "metadata": {},
   "outputs": [],
   "source": []
  },
  {
   "cell_type": "code",
   "execution_count": null,
   "id": "34f26ed1-8173-4d2d-9e4b-bdf92d01c2b3",
   "metadata": {},
   "outputs": [],
   "source": []
  },
  {
   "cell_type": "code",
   "execution_count": null,
   "id": "a4306b82-37c3-4adf-aa7c-508f9904be08",
   "metadata": {},
   "outputs": [],
   "source": []
  },
  {
   "cell_type": "code",
   "execution_count": null,
   "id": "c6f792c3-c64e-4915-892f-eea39f956ba1",
   "metadata": {},
   "outputs": [],
   "source": []
  },
  {
   "cell_type": "code",
   "execution_count": null,
   "id": "76fe2d4b-3887-4e89-bba7-54d2eef2f8ed",
   "metadata": {},
   "outputs": [],
   "source": []
  },
  {
   "cell_type": "code",
   "execution_count": null,
   "id": "e7f4842a-139d-4b02-824f-aeae3fec110f",
   "metadata": {},
   "outputs": [],
   "source": []
  },
  {
   "cell_type": "code",
   "execution_count": null,
   "id": "e7c60d6b-6f8a-42ca-a90b-5e1ba07d7bae",
   "metadata": {},
   "outputs": [],
   "source": []
  },
  {
   "cell_type": "code",
   "execution_count": null,
   "id": "64e5704d-20ee-4a31-895a-34c0df893f8c",
   "metadata": {},
   "outputs": [],
   "source": []
  },
  {
   "cell_type": "code",
   "execution_count": null,
   "id": "31910e53-d722-46cf-b28d-c8d3cab1f5d1",
   "metadata": {},
   "outputs": [],
   "source": []
  },
  {
   "cell_type": "code",
   "execution_count": null,
   "id": "4c181207-886d-4f0f-87d9-92cb9a607998",
   "metadata": {},
   "outputs": [],
   "source": []
  },
  {
   "cell_type": "code",
   "execution_count": null,
   "id": "4bf3b433-3872-4717-b872-77285b5f669e",
   "metadata": {},
   "outputs": [],
   "source": []
  },
  {
   "cell_type": "code",
   "execution_count": null,
   "id": "ecfd58af-e4b0-4b06-9a76-6b95cfe50c13",
   "metadata": {},
   "outputs": [],
   "source": []
  },
  {
   "cell_type": "code",
   "execution_count": null,
   "id": "86c5448b-84e8-452e-9e5a-1fe9b5dbe136",
   "metadata": {},
   "outputs": [],
   "source": []
  },
  {
   "cell_type": "code",
   "execution_count": null,
   "id": "91799488-9ffe-427a-8b49-ba64c0e550e2",
   "metadata": {},
   "outputs": [],
   "source": []
  },
  {
   "cell_type": "code",
   "execution_count": null,
   "id": "276de17e-49ea-45ba-8a63-7d056b6b7aa2",
   "metadata": {},
   "outputs": [],
   "source": []
  },
  {
   "cell_type": "code",
   "execution_count": null,
   "id": "ac59d777-c41f-4c65-9fc4-4d4bba3cf8a0",
   "metadata": {},
   "outputs": [],
   "source": []
  },
  {
   "cell_type": "code",
   "execution_count": null,
   "id": "d4dfc879-2a63-4806-9bb2-3a8423c704c3",
   "metadata": {},
   "outputs": [],
   "source": []
  },
  {
   "cell_type": "code",
   "execution_count": null,
   "id": "c47a9e45-23b3-434c-8629-1fcd5d254617",
   "metadata": {},
   "outputs": [],
   "source": []
  },
  {
   "cell_type": "code",
   "execution_count": null,
   "id": "fafca05d-0862-474d-bc72-626917fa7ea0",
   "metadata": {},
   "outputs": [],
   "source": []
  }
 ],
 "metadata": {
  "kernelspec": {
   "display_name": "Python 3 (ipykernel)",
   "language": "python",
   "name": "python3"
  },
  "language_info": {
   "codemirror_mode": {
    "name": "ipython",
    "version": 3
   },
   "file_extension": ".py",
   "mimetype": "text/x-python",
   "name": "python",
   "nbconvert_exporter": "python",
   "pygments_lexer": "ipython3",
   "version": "3.11.4"
  },
  "widgets": {
   "application/vnd.jupyter.widget-state+json": {
    "state": {},
    "version_major": 2,
    "version_minor": 0
   }
  }
 },
 "nbformat": 4,
 "nbformat_minor": 5
}
